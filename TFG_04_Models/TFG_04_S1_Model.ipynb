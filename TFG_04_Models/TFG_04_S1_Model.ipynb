{
 "cells": [
  {
   "cell_type": "markdown",
   "metadata": {},
   "source": [
    "# **TFG**  \n",
    "\n",
    "***Machine Learning-Based Classification of Hospital Discharge Diagnoses Using SNOMED-CT Encoded Health Problems and Clinical Data***  \n",
    "\n",
    "Cindy Chen\n",
    "\n",
    "Universitat de Barcelona\n",
    "\n",
    "2024-2025\n"
   ]
  },
  {
   "cell_type": "code",
   "execution_count": null,
   "metadata": {},
   "outputs": [],
   "source": [
    "# Import modules \n",
    "import pandas as pd\n",
    "import numpy as np\n",
    "import matplotlib.pyplot as plt\n",
    "import seaborn as sns\n",
    "from IPython.display import display \n",
    "import gradio as gr\n",
    "import os\n",
    "from pycaret.classification import *\n",
    "from pycaret.classification import plot_model\n",
    "from pycaret.classification import predict_model, pull, load_model\n",
    "\n",
    "%matplotlib inline"
   ]
  },
  {
   "cell_type": "markdown",
   "metadata": {},
   "source": [
    "## **Data Importation**\n",
    "\n",
    "Import Subset 1 to find the best model, train the model, tune it and evaluate."
   ]
  },
  {
   "cell_type": "code",
   "execution_count": null,
   "metadata": {
    "colab": {
     "base_uri": "https://localhost:8080/"
    },
    "id": "eYgvLOgVfFh3",
    "outputId": "6dab4606-06ac-416e-ef09-38cee4ae7a76"
   },
   "outputs": [],
   "source": [
    "# Import data\n",
    "data = pd.read_csv(\"C:/Users/Cindy Chen/Desktop/TFG/data/04_data/subset_1.csv\")\n",
    "data"
   ]
  },
  {
   "cell_type": "markdown",
   "metadata": {},
   "source": [
    "Setup the pycaret environment and select the target column, in our case is the 'icd10_capitulo' column. This function also splits the data into training (70%) and testing set (30%). "
   ]
  },
  {
   "cell_type": "code",
   "execution_count": null,
   "metadata": {
    "id": "2flsaOmRfaaL"
   },
   "outputs": [],
   "source": [
    "# Configuración del entorno de PyCaret\n",
    "clf = setup(data=data, target='icd10_capitulo', session_id=123, verbose=True)"
   ]
  },
  {
   "cell_type": "markdown",
   "metadata": {},
   "source": [
    "![setup](images/S1/S1_setup.png)"
   ]
  },
  {
   "cell_type": "code",
   "execution_count": null,
   "metadata": {},
   "outputs": [],
   "source": [
    "# Get preprocessing pipeline\n",
    "get_config('pipeline')"
   ]
  },
  {
   "cell_type": "markdown",
   "metadata": {},
   "source": [
    "![pipeline](images/S1/S1_pipeline.png)"
   ]
  },
  {
   "cell_type": "markdown",
   "metadata": {},
   "source": [
    "## **Model Comparison**\n",
    "\n",
    "Using the ```compare_models``` function to compare the selected models: Logistic Regression, Decision Trees, Random Forest, XGBoost, SVM, KNN and MLP.  \n",
    "\n",
    "This function trains and evaluates the performance of all estimators available in the model library using cross-validation. The output of this function is a scoring grid with average cross-validated scores. "
   ]
  },
  {
   "cell_type": "code",
   "execution_count": null,
   "metadata": {
    "colab": {
     "base_uri": "https://localhost:8080/",
     "height": 554,
     "referenced_widgets": [
      "e39dc86762294776bcb54b900d68f6d5",
      "7a2067c7d88e4704a5cb231825669613",
      "a05b93faa58148f2a83218884b8d6eaa",
      "73f1962a0f6f4ccabe025d37a6ba7973",
      "48809a730e114ed4944c296ae10d9e76",
      "68fa53729b0945b1bae76e672fc510f1",
      "dabc5f8d82ec434bae91cd2219885943",
      "9668ee7d69ee4dd5aeef691fb16bda1b",
      "222187f88b60487e8b4830cfaf0fcca0",
      "df10ea9843c44a358619ea72c322a070",
      "3d7e3720616e4b9890a3c78e8d008f42"
     ]
    },
    "id": "c9Qk1cRDfRTA",
    "outputId": "6caad526-7db2-4ade-bab9-3c048e980181"
   },
   "outputs": [],
   "source": [
    "# Compare models\n",
    "model_comparison = compare_models(include=[\"lr\", 'dt', 'rf', 'xgboost', 'svm', 'knn', 'mlp'])"
   ]
  },
  {
   "cell_type": "markdown",
   "metadata": {},
   "source": [
    "![model_comparison](images/S1/S1_model_comparison.png)"
   ]
  },
  {
   "cell_type": "code",
   "execution_count": null,
   "metadata": {},
   "outputs": [],
   "source": [
    "# Save results table\n",
    "model_comparison_df = pull()\n",
    "model_comparison_df.to_csv('S1_model_comparison_df.csv', index=False)\n",
    "\n",
    "# Save best_model\n",
    "save_model(model_comparison, 'S1_model_comparison')"
   ]
  },
  {
   "cell_type": "markdown",
   "metadata": {},
   "source": [
    "## **Best Model**\n",
    "\n",
    "Once we have compared the different models, we select the best one. Then using the ```create_model``` function we train and evaluate the performance of the model using cross-validation. By default, it uses the 10 fold. "
   ]
  },
  {
   "cell_type": "code",
   "execution_count": null,
   "metadata": {
    "colab": {
     "base_uri": "https://localhost:8080/",
     "height": 720,
     "referenced_widgets": [
      "72846c476cb8420db14a77b83bc899fb",
      "a70cbdd66cb04dea9da1d9ee04bbb3b7",
      "11df29fe49b0466685dcd753bdef2836",
      "21b75da7154a40a2b5077a2b743a0c05",
      "f9d139479655417397548dcdc0701f09",
      "e8dc97022c014c7d8e973aac12091f58",
      "addbbe3ad70d477cb688f1f701b456cc",
      "a014ab9d42724c4587a38855319e9393",
      "eecf912591bf44ea97b260ef338e44c6",
      "4215a800e1e04f51a9d2821c49c17f38",
      "28315b62431d44ec86263a4ec26e2662",
      "1c2bf05d89764f14baf633f01be9038a",
      "e84fd4bac81946208bafdea8ef4e42b6",
      "3a4ecf088d0e40aa9aacb32a1d24bf03",
      "1250ec6eca10468388d747b7a8a75ce1",
      "d3201656452a4de58567c94eea470b81",
      "75b1422426ee4a9799c99aea39fbc7dc",
      "ebdd1297408d446d8fe09ecf0ac8702b"
     ]
    },
    "id": "YtVbe4m0fhdk",
    "outputId": "469d705a-6b99-4c46-fea5-103c942c2c11"
   },
   "outputs": [],
   "source": [
    "# Model evaluation: cross validation 10 folds\n",
    "decision_tree_model = create_model('dt')  \n",
    "evaluate_model(decision_tree_model)"
   ]
  },
  {
   "cell_type": "markdown",
   "metadata": {},
   "source": [
    "![dt](images/S1/S1_dt.png)"
   ]
  },
  {
   "cell_type": "code",
   "execution_count": null,
   "metadata": {},
   "outputs": [],
   "source": [
    "# Save model\n",
    "save_model(decision_tree_model, 'S1_best_model_dt')"
   ]
  },
  {
   "cell_type": "code",
   "execution_count": null,
   "metadata": {},
   "outputs": [],
   "source": [
    "# Load model\n",
    "decision_tree_model = load_model(\"C:/Users/Cindy Chen/Desktop/TFG/plots/04/S1/S1_best_model_dt\")"
   ]
  },
  {
   "cell_type": "markdown",
   "metadata": {},
   "source": [
    "## **Optimize and Tune Model**\n",
    "\n",
    "The ```tune_model``` function tunes the hyperparameters of the model. The output of this function is a scoring grid with cross-validated scores by fold.  \n",
    "\n",
    "By default, it uses RandomGridSearch from the sklearn and the number of iterations (n_iter) is set to 10."
   ]
  },
  {
   "cell_type": "code",
   "execution_count": null,
   "metadata": {
    "colab": {
     "base_uri": "https://localhost:8080/",
     "height": 509,
     "referenced_widgets": [
      "7ffbd312794c448180c5f8d662a8d1b8",
      "c69483ee37e24c27b06cdfd2da689a74",
      "b8c3ae97cbdd4488a9e662b1ef32ef4e",
      "0194c4b5070f4174945db035d8c0be72",
      "53bb524c5a96423c9f864a85734c7c25",
      "fe1d549274f94c7795baa813f9766884",
      "f75316d4f157477d9c67844e0a020e54",
      "e29dca0f78f7436f99918273cc63de1f",
      "22a0759f019840b397c875d8e0b775fb",
      "e1b225c764114f6db955fc658efb62a8",
      "97360fbb0bcf43528402706f3d45eacd"
     ]
    },
    "id": "3JHp2isBfmvl",
    "outputId": "f344efe9-b223-49ec-f540-65c174b372aa"
   },
   "outputs": [],
   "source": [
    "# Optimize and tune model using Random Grid Search \n",
    "decision_tree_model_tuned = tune_model(decision_tree_model)"
   ]
  },
  {
   "cell_type": "markdown",
   "metadata": {},
   "source": [
    "![tune_1](images/S1/S1_tune_1.png)"
   ]
  },
  {
   "cell_type": "markdown",
   "metadata": {},
   "source": [
    "As we can see, the Random Grid Search didn't obtain better results than the original model, so let's try increasing the number of iterations to 100."
   ]
  },
  {
   "cell_type": "code",
   "execution_count": null,
   "metadata": {},
   "outputs": [],
   "source": [
    "# Optimize and tune model using Random Grid Search and increasing the number of iterations\n",
    "decision_tree_model_tuned = tune_model(decision_tree_model, n_iter=100) # chose_better=False"
   ]
  },
  {
   "cell_type": "markdown",
   "metadata": {},
   "source": [
    "![tune_2](images/S1/S1_tune_2.png)"
   ]
  },
  {
   "cell_type": "markdown",
   "metadata": {},
   "source": [
    "Even when we increase the number of iterations the model doesn't improve. So let's customise the grid and parameters using custom_grid.  \n",
    "\n",
    "For decision trees, the hyperparameters decided to use are:\n",
    "- max_depth\n",
    "- min_samples_split\n",
    "- min_samples_leaf\n",
    "- criterion"
   ]
  },
  {
   "cell_type": "code",
   "execution_count": null,
   "metadata": {},
   "outputs": [],
   "source": [
    "# Optimize and tune model using custom grid and Random Grid Search\n",
    "params = {'max_depth': [None, 3, 5, 10, 15],\n",
    "          'min_samples_split': [2, 5, 10],\n",
    "          'min_samples_leaf': [1, 2, 5],\n",
    "          'criterion': ['gini', 'entropy', 'log_loss']\n",
    "} \n",
    "\n",
    "decision_tree_model_tuned = tune_model(decision_tree_model, custom_grid=params) # chose_better=False"
   ]
  },
  {
   "cell_type": "markdown",
   "metadata": {},
   "source": [
    "![tune_3](images/S1/S1_tune_3.png)"
   ]
  },
  {
   "cell_type": "code",
   "execution_count": null,
   "metadata": {},
   "outputs": [],
   "source": [
    "# Optimize and tune model using custom grid and GridSearchCV\n",
    "params = {'max_depth': [None, 3, 5, 10, 15],\n",
    "          'min_samples_split': [2, 5, 10],\n",
    "          'min_samples_leaf': [1, 2, 5],\n",
    "          'criterion': ['gini', 'entropy', 'log_loss']\n",
    "}\n",
    "\n",
    "decision_tree_model_tuned = tune_model(decision_tree_model, custom_grid=params, search_library='scikit-learn', search_algorithm='grid')"
   ]
  },
  {
   "cell_type": "markdown",
   "metadata": {},
   "source": [
    "![tuned](images/S1/S1_tuned.png)"
   ]
  },
  {
   "cell_type": "markdown",
   "metadata": {},
   "source": [
    "As we can see, the model improved compared to the original one."
   ]
  },
  {
   "cell_type": "code",
   "execution_count": null,
   "metadata": {},
   "outputs": [],
   "source": [
    "# Save tuned model\n",
    "save_model(decision_tree_model_tuned, 'S1_best_model_dt_tuned')"
   ]
  },
  {
   "cell_type": "code",
   "execution_count": null,
   "metadata": {},
   "outputs": [],
   "source": [
    "# Load tuned model\n",
    "decision_tree_model_tuned = load_model(\"C:/Users/Cindy Chen/Desktop/TFG/plots/04/S1/S1_best_model_dt_tuned\")"
   ]
  },
  {
   "cell_type": "code",
   "execution_count": null,
   "metadata": {},
   "outputs": [],
   "source": [
    "# Hyperparameters before tunning\n",
    "print(decision_tree_model)"
   ]
  },
  {
   "cell_type": "code",
   "execution_count": null,
   "metadata": {},
   "outputs": [],
   "source": [
    "# Hyperparameters after tunning\n",
    "print(decision_tree_model_tuned)"
   ]
  },
  {
   "cell_type": "markdown",
   "metadata": {},
   "source": [
    "In this case, the hyperparameter of criterion changed from gini to log_loss."
   ]
  },
  {
   "cell_type": "markdown",
   "metadata": {},
   "source": [
    "## **Predictions**\n",
    "\n",
    "Using the ```predict_model``` function, we can predicts the performance of the model on the test set. "
   ]
  },
  {
   "cell_type": "code",
   "execution_count": null,
   "metadata": {},
   "outputs": [],
   "source": [
    "# Predict on the test set\n",
    "predict_model(decision_tree_model_tuned)"
   ]
  },
  {
   "cell_type": "code",
   "execution_count": null,
   "metadata": {},
   "outputs": [],
   "source": [
    "# Get the performance metrics\n",
    "pull()"
   ]
  },
  {
   "cell_type": "markdown",
   "metadata": {},
   "source": [
    "![predictions](images/S1/S1_predictions.png)"
   ]
  },
  {
   "cell_type": "markdown",
   "metadata": {},
   "source": [
    "## **Analyse Model**  \n",
    "\n",
    "Plots to analyse the performance of the model on the test set."
   ]
  },
  {
   "cell_type": "markdown",
   "metadata": {},
   "source": [
    "### **Confusion Matrix**"
   ]
  },
  {
   "cell_type": "code",
   "execution_count": null,
   "metadata": {},
   "outputs": [],
   "source": [
    "# Confusion Matrix\n",
    "plt.figure(figsize=(25, 25))\n",
    "plot_model(decision_tree_model_tuned, plot = 'confusion_matrix') # save=True, use_train_data=False"
   ]
  },
  {
   "cell_type": "markdown",
   "metadata": {},
   "source": [
    "![cm](images/S1/S1_cm.png)"
   ]
  },
  {
   "cell_type": "markdown",
   "metadata": {},
   "source": [
    "### **Area Under the Curve (AUC)**"
   ]
  },
  {
   "cell_type": "code",
   "execution_count": null,
   "metadata": {},
   "outputs": [],
   "source": [
    "# Area Under the Curve (AUC)\n",
    "plt.figure(figsize=(25, 25))\n",
    "plot_model(decision_tree_model_tuned, plot = 'auc') # save=True"
   ]
  },
  {
   "cell_type": "markdown",
   "metadata": {},
   "source": [
    "![auc](images/S1/S1_auc.png)"
   ]
  },
  {
   "cell_type": "markdown",
   "metadata": {},
   "source": [
    "### **Class Prediction Error**"
   ]
  },
  {
   "cell_type": "code",
   "execution_count": null,
   "metadata": {},
   "outputs": [],
   "source": [
    "# Class Prediction Error\n",
    "plt.figure(figsize=(10, 5))\n",
    "plot_model(decision_tree_model_tuned, plot = 'error') # save=True"
   ]
  },
  {
   "cell_type": "markdown",
   "metadata": {},
   "source": [
    "![error](images/S1/S1_error.png)"
   ]
  },
  {
   "cell_type": "markdown",
   "metadata": {},
   "source": [
    "### **Classification Report**"
   ]
  },
  {
   "cell_type": "code",
   "execution_count": null,
   "metadata": {},
   "outputs": [],
   "source": [
    "# Classification Report\n",
    "plt.figure(figsize=(10, 10))\n",
    "plot_model(decision_tree_model_tuned, plot = 'class_report') # save=True"
   ]
  },
  {
   "cell_type": "markdown",
   "metadata": {},
   "source": [
    "![class_report](images/S1/S1_class_report.png)"
   ]
  },
  {
   "cell_type": "markdown",
   "metadata": {},
   "source": [
    "### **Feature Importance**"
   ]
  },
  {
   "cell_type": "code",
   "execution_count": null,
   "metadata": {},
   "outputs": [],
   "source": [
    "# Feature importance\n",
    "plt.figure(figsize=(10, 10))\n",
    "plot_model(decision_tree_model_tuned, plot = 'feature_all') # save=True"
   ]
  },
  {
   "cell_type": "markdown",
   "metadata": {},
   "source": [
    "![features_all.png](images/S1/S1_features_all.png)"
   ]
  },
  {
   "cell_type": "code",
   "execution_count": null,
   "metadata": {},
   "outputs": [],
   "source": [
    "# Feature importance (top 10)\n",
    "plt.figure(figsize=(10, 10))\n",
    "plot_model(decision_tree_model_tuned, plot = 'feature') # save=True"
   ]
  },
  {
   "cell_type": "markdown",
   "metadata": {},
   "source": [
    "![features](images/S1/S1_features.png)"
   ]
  }
 ],
 "metadata": {
  "colab": {
   "provenance": []
  },
  "kernelspec": {
   "display_name": "Python 3",
   "language": "python",
   "name": "python3"
  },
  "language_info": {
   "codemirror_mode": {
    "name": "ipython",
    "version": 3
   },
   "file_extension": ".py",
   "mimetype": "text/x-python",
   "name": "python",
   "nbconvert_exporter": "python",
   "pygments_lexer": "ipython3",
   "version": "3.9.13"
  },
  "widgets": {
   "application/vnd.jupyter.widget-state+json": {
    "0194c4b5070f4174945db035d8c0be72": {
     "model_module": "@jupyter-widgets/controls",
     "model_module_version": "1.5.0",
     "model_name": "HTMLModel",
     "state": {
      "_dom_classes": [],
      "_model_module": "@jupyter-widgets/controls",
      "_model_module_version": "1.5.0",
      "_model_name": "HTMLModel",
      "_view_count": null,
      "_view_module": "@jupyter-widgets/controls",
      "_view_module_version": "1.5.0",
      "_view_name": "HTMLView",
      "description": "",
      "description_tooltip": null,
      "layout": "IPY_MODEL_e1b225c764114f6db955fc658efb62a8",
      "placeholder": "​",
      "style": "IPY_MODEL_97360fbb0bcf43528402706f3d45eacd",
      "value": " 7/7 [00:43&lt;00:00,  4.92s/it]"
     }
    },
    "11df29fe49b0466685dcd753bdef2836": {
     "model_module": "@jupyter-widgets/controls",
     "model_module_version": "1.5.0",
     "model_name": "FloatProgressModel",
     "state": {
      "_dom_classes": [],
      "_model_module": "@jupyter-widgets/controls",
      "_model_module_version": "1.5.0",
      "_model_name": "FloatProgressModel",
      "_view_count": null,
      "_view_module": "@jupyter-widgets/controls",
      "_view_module_version": "1.5.0",
      "_view_name": "ProgressView",
      "bar_style": "",
      "description": "",
      "description_tooltip": null,
      "layout": "IPY_MODEL_a014ab9d42724c4587a38855319e9393",
      "max": 4,
      "min": 0,
      "orientation": "horizontal",
      "style": "IPY_MODEL_eecf912591bf44ea97b260ef338e44c6",
      "value": 4
     }
    },
    "1250ec6eca10468388d747b7a8a75ce1": {
     "model_module": "@jupyter-widgets/base",
     "model_module_version": "1.2.0",
     "model_name": "LayoutModel",
     "state": {
      "_model_module": "@jupyter-widgets/base",
      "_model_module_version": "1.2.0",
      "_model_name": "LayoutModel",
      "_view_count": null,
      "_view_module": "@jupyter-widgets/base",
      "_view_module_version": "1.2.0",
      "_view_name": "LayoutView",
      "align_content": null,
      "align_items": null,
      "align_self": null,
      "border": null,
      "bottom": null,
      "display": null,
      "flex": null,
      "flex_flow": null,
      "grid_area": null,
      "grid_auto_columns": null,
      "grid_auto_flow": null,
      "grid_auto_rows": null,
      "grid_column": null,
      "grid_gap": null,
      "grid_row": null,
      "grid_template_areas": null,
      "grid_template_columns": null,
      "grid_template_rows": null,
      "height": null,
      "justify_content": null,
      "justify_items": null,
      "left": null,
      "margin": null,
      "max_height": null,
      "max_width": null,
      "min_height": null,
      "min_width": null,
      "object_fit": null,
      "object_position": null,
      "order": null,
      "overflow": null,
      "overflow_x": null,
      "overflow_y": null,
      "padding": null,
      "right": null,
      "top": null,
      "visibility": null,
      "width": null
     }
    },
    "1c2bf05d89764f14baf633f01be9038a": {
     "model_module": "@jupyter-widgets/base",
     "model_module_version": "1.2.0",
     "model_name": "LayoutModel",
     "state": {
      "_model_module": "@jupyter-widgets/base",
      "_model_module_version": "1.2.0",
      "_model_name": "LayoutModel",
      "_view_count": null,
      "_view_module": "@jupyter-widgets/base",
      "_view_module_version": "1.2.0",
      "_view_name": "LayoutView",
      "align_content": null,
      "align_items": null,
      "align_self": null,
      "border": null,
      "bottom": null,
      "display": null,
      "flex": null,
      "flex_flow": null,
      "grid_area": null,
      "grid_auto_columns": null,
      "grid_auto_flow": null,
      "grid_auto_rows": null,
      "grid_column": null,
      "grid_gap": null,
      "grid_row": null,
      "grid_template_areas": null,
      "grid_template_columns": null,
      "grid_template_rows": null,
      "height": null,
      "justify_content": null,
      "justify_items": null,
      "left": null,
      "margin": null,
      "max_height": null,
      "max_width": null,
      "min_height": null,
      "min_width": null,
      "object_fit": null,
      "object_position": null,
      "order": null,
      "overflow": null,
      "overflow_x": null,
      "overflow_y": null,
      "padding": null,
      "right": null,
      "top": null,
      "visibility": null,
      "width": null
     }
    },
    "21b75da7154a40a2b5077a2b743a0c05": {
     "model_module": "@jupyter-widgets/controls",
     "model_module_version": "1.5.0",
     "model_name": "HTMLModel",
     "state": {
      "_dom_classes": [],
      "_model_module": "@jupyter-widgets/controls",
      "_model_module_version": "1.5.0",
      "_model_name": "HTMLModel",
      "_view_count": null,
      "_view_module": "@jupyter-widgets/controls",
      "_view_module_version": "1.5.0",
      "_view_name": "HTMLView",
      "description": "",
      "description_tooltip": null,
      "layout": "IPY_MODEL_4215a800e1e04f51a9d2821c49c17f38",
      "placeholder": "​",
      "style": "IPY_MODEL_28315b62431d44ec86263a4ec26e2662",
      "value": " 4/4 [00:04&lt;00:00,  1.11s/it]"
     }
    },
    "222187f88b60487e8b4830cfaf0fcca0": {
     "model_module": "@jupyter-widgets/controls",
     "model_module_version": "1.5.0",
     "model_name": "ProgressStyleModel",
     "state": {
      "_model_module": "@jupyter-widgets/controls",
      "_model_module_version": "1.5.0",
      "_model_name": "ProgressStyleModel",
      "_view_count": null,
      "_view_module": "@jupyter-widgets/base",
      "_view_module_version": "1.2.0",
      "_view_name": "StyleView",
      "bar_color": null,
      "description_width": ""
     }
    },
    "22a0759f019840b397c875d8e0b775fb": {
     "model_module": "@jupyter-widgets/controls",
     "model_module_version": "1.5.0",
     "model_name": "ProgressStyleModel",
     "state": {
      "_model_module": "@jupyter-widgets/controls",
      "_model_module_version": "1.5.0",
      "_model_name": "ProgressStyleModel",
      "_view_count": null,
      "_view_module": "@jupyter-widgets/base",
      "_view_module_version": "1.2.0",
      "_view_name": "StyleView",
      "bar_color": null,
      "description_width": ""
     }
    },
    "28315b62431d44ec86263a4ec26e2662": {
     "model_module": "@jupyter-widgets/controls",
     "model_module_version": "1.5.0",
     "model_name": "DescriptionStyleModel",
     "state": {
      "_model_module": "@jupyter-widgets/controls",
      "_model_module_version": "1.5.0",
      "_model_name": "DescriptionStyleModel",
      "_view_count": null,
      "_view_module": "@jupyter-widgets/base",
      "_view_module_version": "1.2.0",
      "_view_name": "StyleView",
      "description_width": ""
     }
    },
    "3a4ecf088d0e40aa9aacb32a1d24bf03": {
     "model_module": "@jupyter-widgets/base",
     "model_module_version": "1.2.0",
     "model_name": "LayoutModel",
     "state": {
      "_model_module": "@jupyter-widgets/base",
      "_model_module_version": "1.2.0",
      "_model_name": "LayoutModel",
      "_view_count": null,
      "_view_module": "@jupyter-widgets/base",
      "_view_module_version": "1.2.0",
      "_view_name": "LayoutView",
      "align_content": null,
      "align_items": null,
      "align_self": null,
      "border": null,
      "bottom": null,
      "display": null,
      "flex": null,
      "flex_flow": null,
      "grid_area": null,
      "grid_auto_columns": null,
      "grid_auto_flow": null,
      "grid_auto_rows": null,
      "grid_column": null,
      "grid_gap": null,
      "grid_row": null,
      "grid_template_areas": null,
      "grid_template_columns": null,
      "grid_template_rows": null,
      "height": null,
      "justify_content": null,
      "justify_items": null,
      "left": null,
      "margin": null,
      "max_height": null,
      "max_width": null,
      "min_height": null,
      "min_width": null,
      "object_fit": null,
      "object_position": null,
      "order": null,
      "overflow": null,
      "overflow_x": null,
      "overflow_y": null,
      "padding": null,
      "right": null,
      "top": null,
      "visibility": null,
      "width": null
     }
    },
    "3d7e3720616e4b9890a3c78e8d008f42": {
     "model_module": "@jupyter-widgets/controls",
     "model_module_version": "1.5.0",
     "model_name": "DescriptionStyleModel",
     "state": {
      "_model_module": "@jupyter-widgets/controls",
      "_model_module_version": "1.5.0",
      "_model_name": "DescriptionStyleModel",
      "_view_count": null,
      "_view_module": "@jupyter-widgets/base",
      "_view_module_version": "1.2.0",
      "_view_name": "StyleView",
      "description_width": ""
     }
    },
    "4215a800e1e04f51a9d2821c49c17f38": {
     "model_module": "@jupyter-widgets/base",
     "model_module_version": "1.2.0",
     "model_name": "LayoutModel",
     "state": {
      "_model_module": "@jupyter-widgets/base",
      "_model_module_version": "1.2.0",
      "_model_name": "LayoutModel",
      "_view_count": null,
      "_view_module": "@jupyter-widgets/base",
      "_view_module_version": "1.2.0",
      "_view_name": "LayoutView",
      "align_content": null,
      "align_items": null,
      "align_self": null,
      "border": null,
      "bottom": null,
      "display": null,
      "flex": null,
      "flex_flow": null,
      "grid_area": null,
      "grid_auto_columns": null,
      "grid_auto_flow": null,
      "grid_auto_rows": null,
      "grid_column": null,
      "grid_gap": null,
      "grid_row": null,
      "grid_template_areas": null,
      "grid_template_columns": null,
      "grid_template_rows": null,
      "height": null,
      "justify_content": null,
      "justify_items": null,
      "left": null,
      "margin": null,
      "max_height": null,
      "max_width": null,
      "min_height": null,
      "min_width": null,
      "object_fit": null,
      "object_position": null,
      "order": null,
      "overflow": null,
      "overflow_x": null,
      "overflow_y": null,
      "padding": null,
      "right": null,
      "top": null,
      "visibility": null,
      "width": null
     }
    },
    "48809a730e114ed4944c296ae10d9e76": {
     "model_module": "@jupyter-widgets/base",
     "model_module_version": "1.2.0",
     "model_name": "LayoutModel",
     "state": {
      "_model_module": "@jupyter-widgets/base",
      "_model_module_version": "1.2.0",
      "_model_name": "LayoutModel",
      "_view_count": null,
      "_view_module": "@jupyter-widgets/base",
      "_view_module_version": "1.2.0",
      "_view_name": "LayoutView",
      "align_content": null,
      "align_items": null,
      "align_self": null,
      "border": null,
      "bottom": null,
      "display": null,
      "flex": null,
      "flex_flow": null,
      "grid_area": null,
      "grid_auto_columns": null,
      "grid_auto_flow": null,
      "grid_auto_rows": null,
      "grid_column": null,
      "grid_gap": null,
      "grid_row": null,
      "grid_template_areas": null,
      "grid_template_columns": null,
      "grid_template_rows": null,
      "height": null,
      "justify_content": null,
      "justify_items": null,
      "left": null,
      "margin": null,
      "max_height": null,
      "max_width": null,
      "min_height": null,
      "min_width": null,
      "object_fit": null,
      "object_position": null,
      "order": null,
      "overflow": null,
      "overflow_x": null,
      "overflow_y": null,
      "padding": null,
      "right": null,
      "top": null,
      "visibility": "hidden",
      "width": null
     }
    },
    "53bb524c5a96423c9f864a85734c7c25": {
     "model_module": "@jupyter-widgets/base",
     "model_module_version": "1.2.0",
     "model_name": "LayoutModel",
     "state": {
      "_model_module": "@jupyter-widgets/base",
      "_model_module_version": "1.2.0",
      "_model_name": "LayoutModel",
      "_view_count": null,
      "_view_module": "@jupyter-widgets/base",
      "_view_module_version": "1.2.0",
      "_view_name": "LayoutView",
      "align_content": null,
      "align_items": null,
      "align_self": null,
      "border": null,
      "bottom": null,
      "display": null,
      "flex": null,
      "flex_flow": null,
      "grid_area": null,
      "grid_auto_columns": null,
      "grid_auto_flow": null,
      "grid_auto_rows": null,
      "grid_column": null,
      "grid_gap": null,
      "grid_row": null,
      "grid_template_areas": null,
      "grid_template_columns": null,
      "grid_template_rows": null,
      "height": null,
      "justify_content": null,
      "justify_items": null,
      "left": null,
      "margin": null,
      "max_height": null,
      "max_width": null,
      "min_height": null,
      "min_width": null,
      "object_fit": null,
      "object_position": null,
      "order": null,
      "overflow": null,
      "overflow_x": null,
      "overflow_y": null,
      "padding": null,
      "right": null,
      "top": null,
      "visibility": "hidden",
      "width": null
     }
    },
    "68fa53729b0945b1bae76e672fc510f1": {
     "model_module": "@jupyter-widgets/base",
     "model_module_version": "1.2.0",
     "model_name": "LayoutModel",
     "state": {
      "_model_module": "@jupyter-widgets/base",
      "_model_module_version": "1.2.0",
      "_model_name": "LayoutModel",
      "_view_count": null,
      "_view_module": "@jupyter-widgets/base",
      "_view_module_version": "1.2.0",
      "_view_name": "LayoutView",
      "align_content": null,
      "align_items": null,
      "align_self": null,
      "border": null,
      "bottom": null,
      "display": null,
      "flex": null,
      "flex_flow": null,
      "grid_area": null,
      "grid_auto_columns": null,
      "grid_auto_flow": null,
      "grid_auto_rows": null,
      "grid_column": null,
      "grid_gap": null,
      "grid_row": null,
      "grid_template_areas": null,
      "grid_template_columns": null,
      "grid_template_rows": null,
      "height": null,
      "justify_content": null,
      "justify_items": null,
      "left": null,
      "margin": null,
      "max_height": null,
      "max_width": null,
      "min_height": null,
      "min_width": null,
      "object_fit": null,
      "object_position": null,
      "order": null,
      "overflow": null,
      "overflow_x": null,
      "overflow_y": null,
      "padding": null,
      "right": null,
      "top": null,
      "visibility": null,
      "width": null
     }
    },
    "72846c476cb8420db14a77b83bc899fb": {
     "model_module": "@jupyter-widgets/controls",
     "model_module_version": "1.5.0",
     "model_name": "HBoxModel",
     "state": {
      "_dom_classes": [],
      "_model_module": "@jupyter-widgets/controls",
      "_model_module_version": "1.5.0",
      "_model_name": "HBoxModel",
      "_view_count": null,
      "_view_module": "@jupyter-widgets/controls",
      "_view_module_version": "1.5.0",
      "_view_name": "HBoxView",
      "box_style": "",
      "children": [
       "IPY_MODEL_a70cbdd66cb04dea9da1d9ee04bbb3b7",
       "IPY_MODEL_11df29fe49b0466685dcd753bdef2836",
       "IPY_MODEL_21b75da7154a40a2b5077a2b743a0c05"
      ],
      "layout": "IPY_MODEL_f9d139479655417397548dcdc0701f09"
     }
    },
    "73f1962a0f6f4ccabe025d37a6ba7973": {
     "model_module": "@jupyter-widgets/controls",
     "model_module_version": "1.5.0",
     "model_name": "HTMLModel",
     "state": {
      "_dom_classes": [],
      "_model_module": "@jupyter-widgets/controls",
      "_model_module_version": "1.5.0",
      "_model_name": "HTMLModel",
      "_view_count": null,
      "_view_module": "@jupyter-widgets/controls",
      "_view_module_version": "1.5.0",
      "_view_name": "HTMLView",
      "description": "",
      "description_tooltip": null,
      "layout": "IPY_MODEL_df10ea9843c44a358619ea72c322a070",
      "placeholder": "​",
      "style": "IPY_MODEL_3d7e3720616e4b9890a3c78e8d008f42",
      "value": " 65/65 [00:51&lt;00:00,  1.10it/s]"
     }
    },
    "75b1422426ee4a9799c99aea39fbc7dc": {
     "model_module": "@jupyter-widgets/controls",
     "model_module_version": "1.5.0",
     "model_name": "ToggleButtonsModel",
     "state": {
      "_dom_classes": [],
      "_model_module": "@jupyter-widgets/controls",
      "_model_module_version": "1.5.0",
      "_model_name": "ToggleButtonsModel",
      "_options_labels": [
       "Pipeline Plot",
       "Hyperparameters",
       "AUC",
       "Confusion Matrix",
       "Threshold",
       "Precision Recall",
       "Prediction Error",
       "Class Report",
       "Feature Selection",
       "Learning Curve",
       "Manifold Learning",
       "Calibration Curve",
       "Validation Curve",
       "Dimensions",
       "Feature Importance",
       "Feature Importance (All)",
       "Decision Boundary",
       "Lift Chart",
       "Gain Chart",
       "Decision Tree",
       "KS Statistic Plot"
      ],
      "_view_count": null,
      "_view_module": "@jupyter-widgets/controls",
      "_view_module_version": "1.5.0",
      "_view_name": "ToggleButtonsView",
      "button_style": "",
      "description": "Plot Type:",
      "description_tooltip": null,
      "disabled": false,
      "icons": [
       ""
      ],
      "index": 0,
      "layout": "IPY_MODEL_1c2bf05d89764f14baf633f01be9038a",
      "style": "IPY_MODEL_e84fd4bac81946208bafdea8ef4e42b6",
      "tooltips": []
     }
    },
    "7a2067c7d88e4704a5cb231825669613": {
     "model_module": "@jupyter-widgets/controls",
     "model_module_version": "1.5.0",
     "model_name": "HTMLModel",
     "state": {
      "_dom_classes": [],
      "_model_module": "@jupyter-widgets/controls",
      "_model_module_version": "1.5.0",
      "_model_name": "HTMLModel",
      "_view_count": null,
      "_view_module": "@jupyter-widgets/controls",
      "_view_module_version": "1.5.0",
      "_view_name": "HTMLView",
      "description": "",
      "description_tooltip": null,
      "layout": "IPY_MODEL_68fa53729b0945b1bae76e672fc510f1",
      "placeholder": "​",
      "style": "IPY_MODEL_dabc5f8d82ec434bae91cd2219885943",
      "value": "Processing: 100%"
     }
    },
    "7ffbd312794c448180c5f8d662a8d1b8": {
     "model_module": "@jupyter-widgets/controls",
     "model_module_version": "1.5.0",
     "model_name": "HBoxModel",
     "state": {
      "_dom_classes": [],
      "_model_module": "@jupyter-widgets/controls",
      "_model_module_version": "1.5.0",
      "_model_name": "HBoxModel",
      "_view_count": null,
      "_view_module": "@jupyter-widgets/controls",
      "_view_module_version": "1.5.0",
      "_view_name": "HBoxView",
      "box_style": "",
      "children": [
       "IPY_MODEL_c69483ee37e24c27b06cdfd2da689a74",
       "IPY_MODEL_b8c3ae97cbdd4488a9e662b1ef32ef4e",
       "IPY_MODEL_0194c4b5070f4174945db035d8c0be72"
      ],
      "layout": "IPY_MODEL_53bb524c5a96423c9f864a85734c7c25"
     }
    },
    "9668ee7d69ee4dd5aeef691fb16bda1b": {
     "model_module": "@jupyter-widgets/base",
     "model_module_version": "1.2.0",
     "model_name": "LayoutModel",
     "state": {
      "_model_module": "@jupyter-widgets/base",
      "_model_module_version": "1.2.0",
      "_model_name": "LayoutModel",
      "_view_count": null,
      "_view_module": "@jupyter-widgets/base",
      "_view_module_version": "1.2.0",
      "_view_name": "LayoutView",
      "align_content": null,
      "align_items": null,
      "align_self": null,
      "border": null,
      "bottom": null,
      "display": null,
      "flex": null,
      "flex_flow": null,
      "grid_area": null,
      "grid_auto_columns": null,
      "grid_auto_flow": null,
      "grid_auto_rows": null,
      "grid_column": null,
      "grid_gap": null,
      "grid_row": null,
      "grid_template_areas": null,
      "grid_template_columns": null,
      "grid_template_rows": null,
      "height": null,
      "justify_content": null,
      "justify_items": null,
      "left": null,
      "margin": null,
      "max_height": null,
      "max_width": null,
      "min_height": null,
      "min_width": null,
      "object_fit": null,
      "object_position": null,
      "order": null,
      "overflow": null,
      "overflow_x": null,
      "overflow_y": null,
      "padding": null,
      "right": null,
      "top": null,
      "visibility": null,
      "width": null
     }
    },
    "97360fbb0bcf43528402706f3d45eacd": {
     "model_module": "@jupyter-widgets/controls",
     "model_module_version": "1.5.0",
     "model_name": "DescriptionStyleModel",
     "state": {
      "_model_module": "@jupyter-widgets/controls",
      "_model_module_version": "1.5.0",
      "_model_name": "DescriptionStyleModel",
      "_view_count": null,
      "_view_module": "@jupyter-widgets/base",
      "_view_module_version": "1.2.0",
      "_view_name": "StyleView",
      "description_width": ""
     }
    },
    "a014ab9d42724c4587a38855319e9393": {
     "model_module": "@jupyter-widgets/base",
     "model_module_version": "1.2.0",
     "model_name": "LayoutModel",
     "state": {
      "_model_module": "@jupyter-widgets/base",
      "_model_module_version": "1.2.0",
      "_model_name": "LayoutModel",
      "_view_count": null,
      "_view_module": "@jupyter-widgets/base",
      "_view_module_version": "1.2.0",
      "_view_name": "LayoutView",
      "align_content": null,
      "align_items": null,
      "align_self": null,
      "border": null,
      "bottom": null,
      "display": null,
      "flex": null,
      "flex_flow": null,
      "grid_area": null,
      "grid_auto_columns": null,
      "grid_auto_flow": null,
      "grid_auto_rows": null,
      "grid_column": null,
      "grid_gap": null,
      "grid_row": null,
      "grid_template_areas": null,
      "grid_template_columns": null,
      "grid_template_rows": null,
      "height": null,
      "justify_content": null,
      "justify_items": null,
      "left": null,
      "margin": null,
      "max_height": null,
      "max_width": null,
      "min_height": null,
      "min_width": null,
      "object_fit": null,
      "object_position": null,
      "order": null,
      "overflow": null,
      "overflow_x": null,
      "overflow_y": null,
      "padding": null,
      "right": null,
      "top": null,
      "visibility": null,
      "width": null
     }
    },
    "a05b93faa58148f2a83218884b8d6eaa": {
     "model_module": "@jupyter-widgets/controls",
     "model_module_version": "1.5.0",
     "model_name": "FloatProgressModel",
     "state": {
      "_dom_classes": [],
      "_model_module": "@jupyter-widgets/controls",
      "_model_module_version": "1.5.0",
      "_model_name": "FloatProgressModel",
      "_view_count": null,
      "_view_module": "@jupyter-widgets/controls",
      "_view_module_version": "1.5.0",
      "_view_name": "ProgressView",
      "bar_style": "",
      "description": "",
      "description_tooltip": null,
      "layout": "IPY_MODEL_9668ee7d69ee4dd5aeef691fb16bda1b",
      "max": 65,
      "min": 0,
      "orientation": "horizontal",
      "style": "IPY_MODEL_222187f88b60487e8b4830cfaf0fcca0",
      "value": 65
     }
    },
    "a70cbdd66cb04dea9da1d9ee04bbb3b7": {
     "model_module": "@jupyter-widgets/controls",
     "model_module_version": "1.5.0",
     "model_name": "HTMLModel",
     "state": {
      "_dom_classes": [],
      "_model_module": "@jupyter-widgets/controls",
      "_model_module_version": "1.5.0",
      "_model_name": "HTMLModel",
      "_view_count": null,
      "_view_module": "@jupyter-widgets/controls",
      "_view_module_version": "1.5.0",
      "_view_name": "HTMLView",
      "description": "",
      "description_tooltip": null,
      "layout": "IPY_MODEL_e8dc97022c014c7d8e973aac12091f58",
      "placeholder": "​",
      "style": "IPY_MODEL_addbbe3ad70d477cb688f1f701b456cc",
      "value": "Processing: 100%"
     }
    },
    "addbbe3ad70d477cb688f1f701b456cc": {
     "model_module": "@jupyter-widgets/controls",
     "model_module_version": "1.5.0",
     "model_name": "DescriptionStyleModel",
     "state": {
      "_model_module": "@jupyter-widgets/controls",
      "_model_module_version": "1.5.0",
      "_model_name": "DescriptionStyleModel",
      "_view_count": null,
      "_view_module": "@jupyter-widgets/base",
      "_view_module_version": "1.2.0",
      "_view_name": "StyleView",
      "description_width": ""
     }
    },
    "b8c3ae97cbdd4488a9e662b1ef32ef4e": {
     "model_module": "@jupyter-widgets/controls",
     "model_module_version": "1.5.0",
     "model_name": "FloatProgressModel",
     "state": {
      "_dom_classes": [],
      "_model_module": "@jupyter-widgets/controls",
      "_model_module_version": "1.5.0",
      "_model_name": "FloatProgressModel",
      "_view_count": null,
      "_view_module": "@jupyter-widgets/controls",
      "_view_module_version": "1.5.0",
      "_view_name": "ProgressView",
      "bar_style": "",
      "description": "",
      "description_tooltip": null,
      "layout": "IPY_MODEL_e29dca0f78f7436f99918273cc63de1f",
      "max": 7,
      "min": 0,
      "orientation": "horizontal",
      "style": "IPY_MODEL_22a0759f019840b397c875d8e0b775fb",
      "value": 7
     }
    },
    "c69483ee37e24c27b06cdfd2da689a74": {
     "model_module": "@jupyter-widgets/controls",
     "model_module_version": "1.5.0",
     "model_name": "HTMLModel",
     "state": {
      "_dom_classes": [],
      "_model_module": "@jupyter-widgets/controls",
      "_model_module_version": "1.5.0",
      "_model_name": "HTMLModel",
      "_view_count": null,
      "_view_module": "@jupyter-widgets/controls",
      "_view_module_version": "1.5.0",
      "_view_name": "HTMLView",
      "description": "",
      "description_tooltip": null,
      "layout": "IPY_MODEL_fe1d549274f94c7795baa813f9766884",
      "placeholder": "​",
      "style": "IPY_MODEL_f75316d4f157477d9c67844e0a020e54",
      "value": "Processing: 100%"
     }
    },
    "d3201656452a4de58567c94eea470b81": {
     "model_module": "@jupyter-widgets/controls",
     "model_module_version": "1.5.0",
     "model_name": "VBoxModel",
     "state": {
      "_dom_classes": [
       "widget-interact"
      ],
      "_model_module": "@jupyter-widgets/controls",
      "_model_module_version": "1.5.0",
      "_model_name": "VBoxModel",
      "_view_count": null,
      "_view_module": "@jupyter-widgets/controls",
      "_view_module_version": "1.5.0",
      "_view_name": "VBoxView",
      "box_style": "",
      "children": [
       "IPY_MODEL_75b1422426ee4a9799c99aea39fbc7dc",
       "IPY_MODEL_ebdd1297408d446d8fe09ecf0ac8702b"
      ],
      "layout": "IPY_MODEL_3a4ecf088d0e40aa9aacb32a1d24bf03"
     }
    },
    "dabc5f8d82ec434bae91cd2219885943": {
     "model_module": "@jupyter-widgets/controls",
     "model_module_version": "1.5.0",
     "model_name": "DescriptionStyleModel",
     "state": {
      "_model_module": "@jupyter-widgets/controls",
      "_model_module_version": "1.5.0",
      "_model_name": "DescriptionStyleModel",
      "_view_count": null,
      "_view_module": "@jupyter-widgets/base",
      "_view_module_version": "1.2.0",
      "_view_name": "StyleView",
      "description_width": ""
     }
    },
    "df10ea9843c44a358619ea72c322a070": {
     "model_module": "@jupyter-widgets/base",
     "model_module_version": "1.2.0",
     "model_name": "LayoutModel",
     "state": {
      "_model_module": "@jupyter-widgets/base",
      "_model_module_version": "1.2.0",
      "_model_name": "LayoutModel",
      "_view_count": null,
      "_view_module": "@jupyter-widgets/base",
      "_view_module_version": "1.2.0",
      "_view_name": "LayoutView",
      "align_content": null,
      "align_items": null,
      "align_self": null,
      "border": null,
      "bottom": null,
      "display": null,
      "flex": null,
      "flex_flow": null,
      "grid_area": null,
      "grid_auto_columns": null,
      "grid_auto_flow": null,
      "grid_auto_rows": null,
      "grid_column": null,
      "grid_gap": null,
      "grid_row": null,
      "grid_template_areas": null,
      "grid_template_columns": null,
      "grid_template_rows": null,
      "height": null,
      "justify_content": null,
      "justify_items": null,
      "left": null,
      "margin": null,
      "max_height": null,
      "max_width": null,
      "min_height": null,
      "min_width": null,
      "object_fit": null,
      "object_position": null,
      "order": null,
      "overflow": null,
      "overflow_x": null,
      "overflow_y": null,
      "padding": null,
      "right": null,
      "top": null,
      "visibility": null,
      "width": null
     }
    },
    "e1b225c764114f6db955fc658efb62a8": {
     "model_module": "@jupyter-widgets/base",
     "model_module_version": "1.2.0",
     "model_name": "LayoutModel",
     "state": {
      "_model_module": "@jupyter-widgets/base",
      "_model_module_version": "1.2.0",
      "_model_name": "LayoutModel",
      "_view_count": null,
      "_view_module": "@jupyter-widgets/base",
      "_view_module_version": "1.2.0",
      "_view_name": "LayoutView",
      "align_content": null,
      "align_items": null,
      "align_self": null,
      "border": null,
      "bottom": null,
      "display": null,
      "flex": null,
      "flex_flow": null,
      "grid_area": null,
      "grid_auto_columns": null,
      "grid_auto_flow": null,
      "grid_auto_rows": null,
      "grid_column": null,
      "grid_gap": null,
      "grid_row": null,
      "grid_template_areas": null,
      "grid_template_columns": null,
      "grid_template_rows": null,
      "height": null,
      "justify_content": null,
      "justify_items": null,
      "left": null,
      "margin": null,
      "max_height": null,
      "max_width": null,
      "min_height": null,
      "min_width": null,
      "object_fit": null,
      "object_position": null,
      "order": null,
      "overflow": null,
      "overflow_x": null,
      "overflow_y": null,
      "padding": null,
      "right": null,
      "top": null,
      "visibility": null,
      "width": null
     }
    },
    "e29dca0f78f7436f99918273cc63de1f": {
     "model_module": "@jupyter-widgets/base",
     "model_module_version": "1.2.0",
     "model_name": "LayoutModel",
     "state": {
      "_model_module": "@jupyter-widgets/base",
      "_model_module_version": "1.2.0",
      "_model_name": "LayoutModel",
      "_view_count": null,
      "_view_module": "@jupyter-widgets/base",
      "_view_module_version": "1.2.0",
      "_view_name": "LayoutView",
      "align_content": null,
      "align_items": null,
      "align_self": null,
      "border": null,
      "bottom": null,
      "display": null,
      "flex": null,
      "flex_flow": null,
      "grid_area": null,
      "grid_auto_columns": null,
      "grid_auto_flow": null,
      "grid_auto_rows": null,
      "grid_column": null,
      "grid_gap": null,
      "grid_row": null,
      "grid_template_areas": null,
      "grid_template_columns": null,
      "grid_template_rows": null,
      "height": null,
      "justify_content": null,
      "justify_items": null,
      "left": null,
      "margin": null,
      "max_height": null,
      "max_width": null,
      "min_height": null,
      "min_width": null,
      "object_fit": null,
      "object_position": null,
      "order": null,
      "overflow": null,
      "overflow_x": null,
      "overflow_y": null,
      "padding": null,
      "right": null,
      "top": null,
      "visibility": null,
      "width": null
     }
    },
    "e39dc86762294776bcb54b900d68f6d5": {
     "model_module": "@jupyter-widgets/controls",
     "model_module_version": "1.5.0",
     "model_name": "HBoxModel",
     "state": {
      "_dom_classes": [],
      "_model_module": "@jupyter-widgets/controls",
      "_model_module_version": "1.5.0",
      "_model_name": "HBoxModel",
      "_view_count": null,
      "_view_module": "@jupyter-widgets/controls",
      "_view_module_version": "1.5.0",
      "_view_name": "HBoxView",
      "box_style": "",
      "children": [
       "IPY_MODEL_7a2067c7d88e4704a5cb231825669613",
       "IPY_MODEL_a05b93faa58148f2a83218884b8d6eaa",
       "IPY_MODEL_73f1962a0f6f4ccabe025d37a6ba7973"
      ],
      "layout": "IPY_MODEL_48809a730e114ed4944c296ae10d9e76"
     }
    },
    "e84fd4bac81946208bafdea8ef4e42b6": {
     "model_module": "@jupyter-widgets/controls",
     "model_module_version": "1.5.0",
     "model_name": "ToggleButtonsStyleModel",
     "state": {
      "_model_module": "@jupyter-widgets/controls",
      "_model_module_version": "1.5.0",
      "_model_name": "ToggleButtonsStyleModel",
      "_view_count": null,
      "_view_module": "@jupyter-widgets/base",
      "_view_module_version": "1.2.0",
      "_view_name": "StyleView",
      "button_width": "",
      "description_width": "",
      "font_weight": ""
     }
    },
    "e8dc97022c014c7d8e973aac12091f58": {
     "model_module": "@jupyter-widgets/base",
     "model_module_version": "1.2.0",
     "model_name": "LayoutModel",
     "state": {
      "_model_module": "@jupyter-widgets/base",
      "_model_module_version": "1.2.0",
      "_model_name": "LayoutModel",
      "_view_count": null,
      "_view_module": "@jupyter-widgets/base",
      "_view_module_version": "1.2.0",
      "_view_name": "LayoutView",
      "align_content": null,
      "align_items": null,
      "align_self": null,
      "border": null,
      "bottom": null,
      "display": null,
      "flex": null,
      "flex_flow": null,
      "grid_area": null,
      "grid_auto_columns": null,
      "grid_auto_flow": null,
      "grid_auto_rows": null,
      "grid_column": null,
      "grid_gap": null,
      "grid_row": null,
      "grid_template_areas": null,
      "grid_template_columns": null,
      "grid_template_rows": null,
      "height": null,
      "justify_content": null,
      "justify_items": null,
      "left": null,
      "margin": null,
      "max_height": null,
      "max_width": null,
      "min_height": null,
      "min_width": null,
      "object_fit": null,
      "object_position": null,
      "order": null,
      "overflow": null,
      "overflow_x": null,
      "overflow_y": null,
      "padding": null,
      "right": null,
      "top": null,
      "visibility": null,
      "width": null
     }
    },
    "ebdd1297408d446d8fe09ecf0ac8702b": {
     "model_module": "@jupyter-widgets/output",
     "model_module_version": "1.0.0",
     "model_name": "OutputModel",
     "state": {
      "_dom_classes": [],
      "_model_module": "@jupyter-widgets/output",
      "_model_module_version": "1.0.0",
      "_model_name": "OutputModel",
      "_view_count": null,
      "_view_module": "@jupyter-widgets/output",
      "_view_module_version": "1.0.0",
      "_view_name": "OutputView",
      "layout": "IPY_MODEL_1250ec6eca10468388d747b7a8a75ce1",
      "msg_id": "",
      "outputs": [
       {
        "data": {
         "image/png": "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\n",
         "text/plain": "<Figure size 1200x600 with 1 Axes>"
        },
        "metadata": {},
        "output_type": "display_data"
       }
      ]
     }
    },
    "eecf912591bf44ea97b260ef338e44c6": {
     "model_module": "@jupyter-widgets/controls",
     "model_module_version": "1.5.0",
     "model_name": "ProgressStyleModel",
     "state": {
      "_model_module": "@jupyter-widgets/controls",
      "_model_module_version": "1.5.0",
      "_model_name": "ProgressStyleModel",
      "_view_count": null,
      "_view_module": "@jupyter-widgets/base",
      "_view_module_version": "1.2.0",
      "_view_name": "StyleView",
      "bar_color": null,
      "description_width": ""
     }
    },
    "f75316d4f157477d9c67844e0a020e54": {
     "model_module": "@jupyter-widgets/controls",
     "model_module_version": "1.5.0",
     "model_name": "DescriptionStyleModel",
     "state": {
      "_model_module": "@jupyter-widgets/controls",
      "_model_module_version": "1.5.0",
      "_model_name": "DescriptionStyleModel",
      "_view_count": null,
      "_view_module": "@jupyter-widgets/base",
      "_view_module_version": "1.2.0",
      "_view_name": "StyleView",
      "description_width": ""
     }
    },
    "f9d139479655417397548dcdc0701f09": {
     "model_module": "@jupyter-widgets/base",
     "model_module_version": "1.2.0",
     "model_name": "LayoutModel",
     "state": {
      "_model_module": "@jupyter-widgets/base",
      "_model_module_version": "1.2.0",
      "_model_name": "LayoutModel",
      "_view_count": null,
      "_view_module": "@jupyter-widgets/base",
      "_view_module_version": "1.2.0",
      "_view_name": "LayoutView",
      "align_content": null,
      "align_items": null,
      "align_self": null,
      "border": null,
      "bottom": null,
      "display": null,
      "flex": null,
      "flex_flow": null,
      "grid_area": null,
      "grid_auto_columns": null,
      "grid_auto_flow": null,
      "grid_auto_rows": null,
      "grid_column": null,
      "grid_gap": null,
      "grid_row": null,
      "grid_template_areas": null,
      "grid_template_columns": null,
      "grid_template_rows": null,
      "height": null,
      "justify_content": null,
      "justify_items": null,
      "left": null,
      "margin": null,
      "max_height": null,
      "max_width": null,
      "min_height": null,
      "min_width": null,
      "object_fit": null,
      "object_position": null,
      "order": null,
      "overflow": null,
      "overflow_x": null,
      "overflow_y": null,
      "padding": null,
      "right": null,
      "top": null,
      "visibility": "hidden",
      "width": null
     }
    },
    "fe1d549274f94c7795baa813f9766884": {
     "model_module": "@jupyter-widgets/base",
     "model_module_version": "1.2.0",
     "model_name": "LayoutModel",
     "state": {
      "_model_module": "@jupyter-widgets/base",
      "_model_module_version": "1.2.0",
      "_model_name": "LayoutModel",
      "_view_count": null,
      "_view_module": "@jupyter-widgets/base",
      "_view_module_version": "1.2.0",
      "_view_name": "LayoutView",
      "align_content": null,
      "align_items": null,
      "align_self": null,
      "border": null,
      "bottom": null,
      "display": null,
      "flex": null,
      "flex_flow": null,
      "grid_area": null,
      "grid_auto_columns": null,
      "grid_auto_flow": null,
      "grid_auto_rows": null,
      "grid_column": null,
      "grid_gap": null,
      "grid_row": null,
      "grid_template_areas": null,
      "grid_template_columns": null,
      "grid_template_rows": null,
      "height": null,
      "justify_content": null,
      "justify_items": null,
      "left": null,
      "margin": null,
      "max_height": null,
      "max_width": null,
      "min_height": null,
      "min_width": null,
      "object_fit": null,
      "object_position": null,
      "order": null,
      "overflow": null,
      "overflow_x": null,
      "overflow_y": null,
      "padding": null,
      "right": null,
      "top": null,
      "visibility": null,
      "width": null
     }
    }
   }
  }
 },
 "nbformat": 4,
 "nbformat_minor": 4
}
